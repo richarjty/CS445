{
 "cells": [
  {
   "cell_type": "markdown",
   "metadata": {
    "deletable": false,
    "editable": false,
    "nbgrader": {
     "cell_type": "markdown",
     "checksum": "81b227c084cf16cd54470589139dbd22",
     "grade": false,
     "grade_id": "Intro",
     "locked": true,
     "schema_version": 3,
     "solution": false,
     "task": false
    }
   },
   "source": [
    "# Python Coding Exercises\n",
    "Complete each of the unfinished coding exercises below.  You can check all of your answers by clicking on the \"Validate\" button at the top of this window.  If you don't see a validate button you need to activate nbgrader.\n",
    "\n",
    "## Type Hints\n",
    "Note that the examples below make use of Python *type hints* to document expected argument and return types. For example, the first function declaration below could have been written as follows:\n",
    "\n",
    "```python\n",
    "def in_interval(x, a, b):\n",
    "    \"\"\" Return True if the number x is in the interval [a, b)\"\"\"\n",
    "```\n",
    "\n",
    "Instead, we've written:\n",
    "\n",
    "```python\n",
    "def in_interval(x: float, a: float, b: float) -> bool:\n",
    "    \"\"\" Return True if the number x is in the interval [a, b)\"\"\"\n",
    "```\n",
    "\n",
    "This is not a syntactic requirement in Python, and the Python interpreter will not enforce type hints by default. We probably won't use type hints consistently this semester, but they can be helpful when developing larger-scale Python programs.\n",
    "\n",
    "Follow the link below for more information on type hints:\n",
    "\n",
    "<https://docs.python.org/3.8/library/typing.html>\n",
    "\n",
    "## Name & Honor Code\n",
    "\n",
    "Enter your name in the cell below.  By doing so, you certify that this submission conforms to the JMU Honor code."
   ]
  },
  {
   "cell_type": "markdown",
   "metadata": {
    "deletable": false,
    "nbgrader": {
     "cell_type": "markdown",
     "checksum": "dc7ac7a1b3b40de7873711d34e89eb77",
     "grade": true,
     "grade_id": "Names",
     "locked": false,
     "points": 1,
     "schema_version": 3,
     "solution": true,
     "task": false
    }
   },
   "source": [
    "YOUR ANSWER HERE"
   ]
  },
  {
   "cell_type": "markdown",
   "metadata": {
    "deletable": false,
    "editable": false,
    "nbgrader": {
     "cell_type": "markdown",
     "checksum": "9ae27583e82e54e58490168788b69bb3",
     "grade": false,
     "grade_id": "cell-ded3609fdd8794b7",
     "locked": true,
     "schema_version": 3,
     "solution": false,
     "task": false
    }
   },
   "source": [
    "***\n",
    "## QUESTION 1"
   ]
  },
  {
   "cell_type": "code",
   "execution_count": null,
   "metadata": {
    "deletable": false,
    "nbgrader": {
     "cell_type": "code",
     "checksum": "d33c3ec63f4d23884d7705b1c8970569",
     "grade": false,
     "grade_id": "Q1",
     "locked": false,
     "schema_version": 3,
     "solution": true,
     "task": false
    }
   },
   "outputs": [],
   "source": [
    "# QUESTION 1 - Simple Logic and Arithmetic\n",
    "\n",
    "def in_interval(x: float, a: float, b: float) -> bool:\n",
    "    \"\"\" Return True if the number x is in the interval [a, b)\"\"\"\n",
    "    \n",
    "    # YOUR CODE HERE\n",
    "    raise NotImplementedError()\n",
    "    "
   ]
  },
  {
   "cell_type": "code",
   "execution_count": null,
   "metadata": {
    "deletable": false,
    "editable": false,
    "nbgrader": {
     "cell_type": "code",
     "checksum": "594af469586266aa5c455cc5ea8672cc",
     "grade": true,
     "grade_id": "Q1Tests",
     "locked": true,
     "points": 1,
     "schema_version": 3,
     "solution": false,
     "task": false
    }
   },
   "outputs": [],
   "source": [
    "# TESTS FOR QUESTION 1\n",
    "\n",
    "assert in_interval(0.9, 1.0, 2.0) is False\n",
    "assert in_interval(1.0, 1.0, 2.0) is True\n",
    "assert in_interval(1.5, 1.0, 2.0) is True\n",
    "assert in_interval(2.0, 1.0, 2.0) is False\n",
    "assert in_interval(2.1, 1.0, 2.0) is False\n",
    "assert in_interval(0.5, 0.5, 0.5) is False\n",
    "assert in_interval(0.5, 0.5, 0.6) is True"
   ]
  },
  {
   "cell_type": "markdown",
   "metadata": {
    "deletable": false,
    "editable": false,
    "nbgrader": {
     "cell_type": "markdown",
     "checksum": "74e61af0ccc33051733296c17cbaba9f",
     "grade": false,
     "grade_id": "cell-6c8a828359222d23",
     "locked": true,
     "schema_version": 3,
     "solution": false,
     "task": false
    }
   },
   "source": [
    "***\n",
    "## QUESTION 2"
   ]
  },
  {
   "cell_type": "code",
   "execution_count": null,
   "metadata": {
    "deletable": false,
    "nbgrader": {
     "cell_type": "code",
     "checksum": "3d541c19255e1ad21b16b0e16b4fe04e",
     "grade": false,
     "grade_id": "Q2",
     "locked": false,
     "schema_version": 3,
     "solution": true,
     "task": false
    }
   },
   "outputs": [],
   "source": [
    "# Question 2 - Simple Lists and Strings\n",
    "\n",
    "from typing import List\n",
    "\n",
    "def string_lengths(strings: List[str]) -> List[int]:\n",
    "    \"\"\" Return a list containing the lengths of the strings in the provided list.\n",
    "        \n",
    "        >>> string_lengths([\"House\", \"Car\", \"Tree\"])\n",
    "        [5, 3, 4]\n",
    "    \"\"\"\n",
    "    # YOUR CODE HERE\n",
    "    raise NotImplementedError()"
   ]
  },
  {
   "cell_type": "code",
   "execution_count": null,
   "metadata": {
    "deletable": false,
    "editable": false,
    "nbgrader": {
     "cell_type": "code",
     "checksum": "8cb05600e10ecab04f002cecece04bcb",
     "grade": true,
     "grade_id": "Q2Tests",
     "locked": true,
     "points": 1,
     "schema_version": 3,
     "solution": false,
     "task": false
    }
   },
   "outputs": [],
   "source": [
    "# TESTS FOR QUESTION 2\n",
    "\n",
    "assert string_lengths([\"House\", \"Car\", \"Tree\"]) == [5, 3, 4]\n",
    "assert string_lengths([\"House\", \"Car\", \"Tree\", \"A\"]) == [5, 3, 4, 1]\n",
    "assert string_lengths([\"Bar\"]) == [3]"
   ]
  },
  {
   "cell_type": "markdown",
   "metadata": {
    "deletable": false,
    "editable": false,
    "nbgrader": {
     "cell_type": "markdown",
     "checksum": "000d1f2761b00183ea2162a0404785de",
     "grade": false,
     "grade_id": "cell-d76d9c54ac5ecf7f",
     "locked": true,
     "schema_version": 3,
     "solution": false,
     "task": false
    }
   },
   "source": [
    "***\n",
    "## QUESTION 3"
   ]
  },
  {
   "cell_type": "code",
   "execution_count": null,
   "metadata": {
    "deletable": false,
    "nbgrader": {
     "cell_type": "code",
     "checksum": "8c4f6c1383536e1710da9605e1c219c9",
     "grade": false,
     "grade_id": "cell-2400bdc2a79de90f",
     "locked": false,
     "schema_version": 3,
     "solution": true,
     "task": false
    }
   },
   "outputs": [],
   "source": [
    "# Question 3 - Dictionaries\n",
    "\n",
    "from typing import Dict, List\n",
    "\n",
    "def create_index(strings: List[str]) -> Dict[str, List[int]]:\n",
    "    \"\"\" Return a dictionary mapping from each distinct string in the provided list to \n",
    "    an ordered list containing the positions where it appears.\n",
    "    \n",
    "    >>> create_index([\"A\", \"B\", \"A\", \"C\"])\n",
    "    {\"A\": [0, 2], \"B\": [1], \"C\": [3]}\n",
    "    \"\"\"\n",
    "    \n",
    "    # YOUR CODE HERE\n",
    "    raise NotImplementedError()\n",
    "\n"
   ]
  },
  {
   "cell_type": "code",
   "execution_count": null,
   "metadata": {
    "deletable": false,
    "editable": false,
    "nbgrader": {
     "cell_type": "code",
     "checksum": "a7b14d8fe6123cff8e6160b4e9740160",
     "grade": true,
     "grade_id": "cell-30b1d4140c779238",
     "locked": true,
     "points": 1,
     "schema_version": 3,
     "solution": false,
     "task": false
    }
   },
   "outputs": [],
   "source": [
    "# TESTS FOR QUESTION 3\n",
    "\n",
    "assert create_index([\"A\"]) == {\"A\": [0]}\n",
    "assert create_index([\"A\", \"B\", \"A\", \"C\"]) == {\"A\": [0, 2], \"B\": [1], \"C\": [3]}\n",
    "assert create_index([\"A\", \"A\", \"A\", \"A\"]) == {\"A\": [0, 1, 2, 3]}\n",
    "assert create_index([\"House\", \"Car\", \"Cat\", \"Car\"]) == {\"House\": [0], \"Car\": [1, 3], \"Cat\": [2]}"
   ]
  },
  {
   "cell_type": "markdown",
   "metadata": {
    "deletable": false,
    "editable": false,
    "nbgrader": {
     "cell_type": "markdown",
     "checksum": "60ddc30b3a521ddd63b3332cabce2437",
     "grade": false,
     "grade_id": "cell-e152ab813cb8cf85",
     "locked": true,
     "schema_version": 3,
     "solution": false,
     "task": false
    }
   },
   "source": [
    "***\n",
    "## QUESTION 4\n",
    "\n",
    "There are many ways to solve this problem.  One approach is to store the current k-nearest\n",
    "numbers as distance/number tuples and then use the Python list sort method to sort the tuples.  By default, Python will sort first by the first entry in the tuple, then by the second. For example:"
   ]
  },
  {
   "cell_type": "code",
   "execution_count": null,
   "metadata": {},
   "outputs": [],
   "source": [
    "tuples = [(3, 1), (1, 7), (1, 2), (0, 12)]\n",
    "tuples.sort()\n",
    "print(tuples)"
   ]
  },
  {
   "cell_type": "code",
   "execution_count": null,
   "metadata": {
    "deletable": false,
    "nbgrader": {
     "cell_type": "code",
     "checksum": "10ab4ecc6ada2d1c8d2d3abf042a4d0d",
     "grade": false,
     "grade_id": "cell-64fe2dd71c8ff278",
     "locked": false,
     "schema_version": 3,
     "solution": true,
     "task": false
    }
   },
   "outputs": [],
   "source": [
    "from typing import List\n",
    "\n",
    "def k_nearest(x: float, numbers: List[float], k: int=1) -> List[float]:\n",
    "    \"\"\" Return a list containing the k nearest numbers to x.  The returned\n",
    "    list must be ordered by proximity to x, with the closest number appearing\n",
    "    first.  If the length of the list of numbers is less than or equal to k, \n",
    "    then all numbers will be returned.\n",
    "    \n",
    "    >>> k_nearest(3.0, [3.0, 3.7, 27.5, -22.7, 2.9], 3)\n",
    "    [3.0, 2.9, 3.7]\n",
    "    \"\"\"\n",
    "    \n",
    "    # YOUR CODE HERE\n",
    "    raise NotImplementedError()\n"
   ]
  },
  {
   "cell_type": "code",
   "execution_count": null,
   "metadata": {
    "deletable": false,
    "editable": false,
    "nbgrader": {
     "cell_type": "code",
     "checksum": "359d0f3db9fb2bdc338c039bc0243bbb",
     "grade": true,
     "grade_id": "cell-3a12182dc6a41fe0",
     "locked": true,
     "points": 1,
     "schema_version": 3,
     "solution": false,
     "task": false
    }
   },
   "outputs": [],
   "source": [
    "# TESTS FOR QUESTION 4\n",
    "\n",
    "points = [3.0, 3.7, 27.5, -22.7, 2.9]\n",
    "\n",
    "assert k_nearest(3.0, points, 3) == [3.0, 2.9, 3.7]\n",
    "assert k_nearest(3.0, points) == [3.0]\n",
    "assert k_nearest(3.0, points, 2) == [3.0, 2.9]\n",
    "assert k_nearest(-30.0, points, 3) == [-22.7, 2.9, 3.0]\n",
    "assert k_nearest(1000.0, points, 100) == [27.5, 3.7, 3.0, 2.9, -22.7]\n"
   ]
  }
 ],
 "metadata": {
  "kernelspec": {
   "display_name": "Python 3",
   "language": "python",
   "name": "python3"
  },
  "language_info": {
   "codemirror_mode": {
    "name": "ipython",
    "version": 3
   },
   "file_extension": ".py",
   "mimetype": "text/x-python",
   "name": "python",
   "nbconvert_exporter": "python",
   "pygments_lexer": "ipython3",
   "version": "3.8.5"
  }
 },
 "nbformat": 4,
 "nbformat_minor": 4
}
